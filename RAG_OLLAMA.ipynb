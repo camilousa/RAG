{
  "cells": [
    {
      "cell_type": "code",
      "execution_count": 13,
      "id": "a42f1952-8bdf-42d4-b40f-ed1f703ddeb8",
      "metadata": {
        "id": "a42f1952-8bdf-42d4-b40f-ed1f703ddeb8"
      },
      "outputs": [],
      "source": [
        "%pip install --quiet --upgrade langchain-text-splitters langchain-community langgraph\n",
        "%pip install -qU langchain-ollama langchain-postgres\n",
        "%pip install -qU boto3 pypdf"
      ]
    },
    {
      "cell_type": "code",
      "execution_count": 2,
      "id": "c869503e-2125-4845-a9a4-343cdd78482d",
      "metadata": {
        "id": "c869503e-2125-4845-a9a4-343cdd78482d"
      },
      "outputs": [],
      "source": [
        "import boto3\n",
        "import tempfile\n",
        "from langchain_community.document_loaders import PyPDFLoader\n",
        "import os\n",
        "import getpass\n",
        "from langchain_core.language_models.chat_models import BaseChatModel\n",
        "from langchain_core.messages import AIMessage, HumanMessage\n",
        "from langchain_core.outputs import ChatResult, ChatGeneration\n",
        "import requests\n",
        "from langchain_core.embeddings import Embeddings\n",
        "from langchain_postgres import PGVector\n",
        "from langchain_text_splitters import RecursiveCharacterTextSplitter\n",
        "from langchain import hub\n",
        "from langgraph.graph import START, StateGraph, END\n",
        "from typing_extensions import List, TypedDict\n",
        "from langchain_core.runnables import Runnable\n",
        "from langchain_core.documents import Document"
      ]
    },
    {
      "cell_type": "markdown",
      "id": "f5ea2b8b-3ea7-479f-bc4f-3dfdbc6d27c1",
      "metadata": {
        "id": "f5ea2b8b-3ea7-479f-bc4f-3dfdbc6d27c1"
      },
      "source": [
        "# Configuración"
      ]
    },
    {
      "cell_type": "code",
      "execution_count": 14,
      "id": "c5d19f16-c2b8-40c7-ae3d-928a3e287eee",
      "metadata": {
        "colab": {
          "base_uri": "https://localhost:8080/"
        },
        "id": "c5d19f16-c2b8-40c7-ae3d-928a3e287eee",
        "outputId": "5a6f3c5d-2831-44cf-abf9-e68db0818dec"
      },
      "outputs": [
        {
          "name": "stdout",
          "output_type": "stream",
          "text": [
            "LangSmith API Key: ··········\n",
            "PostgreSQL URI (postgresql+psycopg://...): ··········\n"
          ]
        }
      ],
      "source": [
        "os.environ[\"LANGSMITH_TRACING\"] = \"true\"\n",
        "os.environ[\"LANGSMITH_API_KEY\"] = getpass.getpass(\"LangSmith API Key: \")\n",
        "POSTGRES_URI = getpass.getpass(\"PostgreSQL URI (postgresql+psycopg://...): \")"
      ]
    },
    {
      "cell_type": "code",
      "source": [
        "ACCESS_KEY = getpass.getpass(\"Digite Access Key: \")\n",
        "SECRET_KEY = getpass.getpass(\"Digite Secret Key: \")\n",
        "SESSION_TOKEN = getpass.getpass(\"Digite Session Token: \")"
      ],
      "metadata": {
        "colab": {
          "base_uri": "https://localhost:8080/"
        },
        "id": "johJ2TXVwg2B",
        "outputId": "2ba6da32-ce4b-4861-f0e2-c23c62768b03"
      },
      "id": "johJ2TXVwg2B",
      "execution_count": 21,
      "outputs": [
        {
          "name": "stdout",
          "output_type": "stream",
          "text": [
            "Digite Access Key: ··········\n",
            "Digite Secret Key: ··········\n",
            "Digite Session Token: ··········\n"
          ]
        }
      ]
    },
    {
      "cell_type": "code",
      "source": [
        "session = boto3.Session(\n",
        "    aws_access_key_id=ACCESS_KEY,\n",
        "    aws_secret_access_key=SECRET_KEY,\n",
        "    aws_session_token=SESSION_TOKEN\n",
        ")"
      ],
      "metadata": {
        "id": "kv5TcqQtwd56"
      },
      "id": "kv5TcqQtwd56",
      "execution_count": 22,
      "outputs": []
    },
    {
      "cell_type": "code",
      "execution_count": 17,
      "id": "8a988863-16ba-4903-86b7-a8112ecfd162",
      "metadata": {
        "id": "8a988863-16ba-4903-86b7-a8112ecfd162"
      },
      "outputs": [],
      "source": [
        "class CustomNgrokChat(BaseChatModel):\n",
        "    def _llm_type(self) -> str:\n",
        "        return \"custom-ngrok-chat\"\n",
        "\n",
        "    def _generate(self, messages, stop=None, **kwargs) -> ChatResult:\n",
        "\n",
        "        prompt = \"\\n\".join([m.content for m in messages if isinstance(m, HumanMessage)])\n",
        "\n",
        "        response = requests.post(\n",
        "            \"https://4dae-34-16-212-190.ngrok-free.app/generate\",\n",
        "            json={\n",
        "                \"model\": \"llama3.2\",\n",
        "                \"prompt\": prompt,\n",
        "                \"stream\": False\n",
        "            }\n",
        "        )\n",
        "        answer = response.json()[\"response\"]\n",
        "        return ChatResult(generations=[ChatGeneration(message=AIMessage(content=answer))])\n",
        "\n",
        "llm = CustomNgrokChat()"
      ]
    },
    {
      "cell_type": "code",
      "execution_count": 18,
      "id": "e5d49ce1-31f5-4804-9813-4976bd4d6a74",
      "metadata": {
        "id": "e5d49ce1-31f5-4804-9813-4976bd4d6a74"
      },
      "outputs": [],
      "source": [
        "class RemoteOllamaEmbeddings(Embeddings):\n",
        "    def __init__(self, endpoint: str, model: str = \"nomic-embed-text\"):\n",
        "        self.endpoint = endpoint\n",
        "        self.model = model\n",
        "\n",
        "    def embed_documents(self, texts: list[str]) -> list[list[float]]:\n",
        "        results = []\n",
        "        for text in texts:\n",
        "            res = requests.post(\n",
        "                f\"{self.endpoint}/api/embeddings\",\n",
        "                json={\"model\": self.model, \"prompt\": text}\n",
        "            )\n",
        "            res.raise_for_status()\n",
        "            results.append(res.json()[\"embedding\"])\n",
        "        return results\n",
        "\n",
        "    def embed_query(self, text: str) -> list[float]:\n",
        "        return self.embed_documents([text])[0]\n",
        "\n",
        "embeddings = RemoteOllamaEmbeddings(endpoint=\"http://ec2-54-234-198-62.compute-1.amazonaws.com:11434\")\n"
      ]
    },
    {
      "cell_type": "code",
      "execution_count": 19,
      "id": "f90f6082-01cf-49c5-a725-e8ee34bfcf25",
      "metadata": {
        "id": "f90f6082-01cf-49c5-a725-e8ee34bfcf25"
      },
      "outputs": [],
      "source": [
        "vector_store = PGVector(\n",
        "    embeddings=embeddings,\n",
        "    collection_name=\"pdf_docs\",\n",
        "    connection=POSTGRES_URI,\n",
        ")"
      ]
    },
    {
      "cell_type": "markdown",
      "id": "22c9744f-ea6c-41bf-837a-c48cfc673713",
      "metadata": {
        "id": "22c9744f-ea6c-41bf-837a-c48cfc673713"
      },
      "source": [
        "# Carga de datos"
      ]
    },
    {
      "cell_type": "code",
      "execution_count": 24,
      "id": "fe1874f7-1ca7-4b62-937c-a7de70b9835f",
      "metadata": {
        "colab": {
          "base_uri": "https://localhost:8080/"
        },
        "id": "fe1874f7-1ca7-4b62-937c-a7de70b9835f",
        "outputId": "acd588ba-51f8-4d42-b2b9-36fd9e3df47c"
      },
      "outputs": [
        {
          "output_type": "stream",
          "name": "stdout",
          "text": [
            "Cargados 56 documentos PDF desde S3.\n"
          ]
        }
      ],
      "source": [
        "bucket_name = \"docsragusa\"\n",
        "prefix = \"\"\n",
        "\n",
        "s3 = session.client(\"s3\")\n",
        "response = s3.list_objects_v2(Bucket=bucket_name, Prefix=prefix)\n",
        "\n",
        "all_docs = []\n",
        "\n",
        "for obj in response.get(\"Contents\", []):\n",
        "    key = obj[\"Key\"]\n",
        "    if key.endswith(\".pdf\"):\n",
        "        with tempfile.NamedTemporaryFile(suffix=\".pdf\", delete=False) as tmp:\n",
        "            s3.download_fileobj(bucket_name, key, tmp)\n",
        "            tmp.flush()\n",
        "            loader = PyPDFLoader(tmp.name)\n",
        "            docs = loader.load()\n",
        "            all_docs.extend(docs)\n",
        "\n",
        "print(f\"Cargados {len(all_docs)} documentos PDF desde S3.\")"
      ]
    },
    {
      "cell_type": "code",
      "execution_count": 25,
      "id": "b0a80e98-ed09-4fc4-a8bd-02688832027d",
      "metadata": {
        "id": "b0a80e98-ed09-4fc4-a8bd-02688832027d"
      },
      "outputs": [],
      "source": [
        "splitter = RecursiveCharacterTextSplitter(chunk_size=1000, chunk_overlap=200)\n",
        "splits = splitter.split_documents(all_docs)"
      ]
    },
    {
      "cell_type": "code",
      "execution_count": 26,
      "id": "f782fe95-020d-4858-8d60-9bdf1b9d5754",
      "metadata": {
        "id": "f782fe95-020d-4858-8d60-9bdf1b9d5754"
      },
      "outputs": [],
      "source": [
        "_ = vector_store.add_documents(splits)"
      ]
    },
    {
      "cell_type": "markdown",
      "id": "ae0e178f-f6d9-493c-b96e-97bf317b71f9",
      "metadata": {
        "id": "ae0e178f-f6d9-493c-b96e-97bf317b71f9"
      },
      "source": [
        "# Recuperación de información"
      ]
    },
    {
      "cell_type": "code",
      "execution_count": 27,
      "id": "c39e35f8-c7ff-44d7-bc68-cc00b7ec7c75",
      "metadata": {
        "id": "c39e35f8-c7ff-44d7-bc68-cc00b7ec7c75"
      },
      "outputs": [],
      "source": [
        "prompt = hub.pull(\"rlm/rag-prompt\")\n",
        "\n",
        "class State(TypedDict):\n",
        "    question: str\n",
        "    context: List[Document]\n",
        "    answer: str\n",
        "\n",
        "def retrieve(state: State):\n",
        "    print(state[\"question\"])\n",
        "    retrieved_docs = vector_store.similarity_search(state[\"question\"])\n",
        "    print(retrieved_docs)\n",
        "    return {\"context\": retrieved_docs}\n",
        "\n",
        "def generate(state: State):\n",
        "    docs_content = \"\\n\\n\".join(doc.page_content for doc in state[\"context\"])\n",
        "    chat_prompt_value = prompt.invoke({\n",
        "        \"question\": state[\"question\"],\n",
        "        \"context\": docs_content,\n",
        "        \"instruction\": \"Answer clearly and concisely.\"\n",
        "    })\n",
        "\n",
        "    # Usa directamente la lista de mensajes para la llamada al LLM\n",
        "    response = llm.invoke(chat_prompt_value.messages)\n",
        "\n",
        "    return {\"answer\": response.content}\n",
        "\n",
        "graph_builder = StateGraph(State).add_sequence([retrieve, generate])\n",
        "graph_builder.add_edge(START, \"retrieve\")\n",
        "graph = graph_builder.compile()"
      ]
    },
    {
      "cell_type": "code",
      "execution_count": 28,
      "id": "60b8827c-0794-443d-b81c-2b19d010cabf",
      "metadata": {
        "id": "60b8827c-0794-443d-b81c-2b19d010cabf"
      },
      "outputs": [],
      "source": [
        "def corregir_codificacion(texto):\n",
        "    try:\n",
        "        # Intenta re-interpretar la cadena\n",
        "        return texto.encode('latin1').decode('utf8')\n",
        "    except:\n",
        "        return texto"
      ]
    },
    {
      "cell_type": "code",
      "execution_count": 29,
      "id": "f52d1cf7-2865-4a06-bf29-4860c97afc82",
      "metadata": {
        "colab": {
          "base_uri": "https://localhost:8080/"
        },
        "id": "f52d1cf7-2865-4a06-bf29-4860c97afc82",
        "outputId": "a6c52876-c47e-49cf-a8b5-2bed2de8c374"
      },
      "outputs": [
        {
          "output_type": "stream",
          "name": "stdout",
          "text": [
            "Por favor escribe tu pregunta (o 'salir' para terminar): what is the class about?\n",
            "what is the class about?\n",
            "[Document(id='7f0d4b5e-d848-4daa-82d8-81b6856b4326', metadata={'page': 1, 'source': '/tmp/tmpfhiaz1n9.pdf', 'creator': 'PyPDF', 'moddate': '2025-05-29T16:35:44+00:00', 'producer': 'iLovePDF', 'page_label': '2', 'total_pages': 4, 'creationdate': ''}, page_content=\"Student : [Inaudible].  \\nInstructor (Andrew Ng) : Endo —  \\nStudent : [Inaudible].  \\nInstructor (Andrew Ng) : Oh, I see, industry. Okay. Cool. Great, great. So as you can \\ntell from a cross-section of this class, I think we're a very diverse audience in this room, \\nand that's one of the things that makes this class fun to teach and fun to be in, I think.\"), Document(id='10895945-41d3-4fe7-9f81-c06ef4c27180', metadata={'page': 1, 'source': '/tmp/tmp7aat61w5.pdf', 'creator': 'PyPDF', 'moddate': '2025-05-29T16:35:44+00:00', 'producer': 'iLovePDF', 'page_label': '2', 'total_pages': 4, 'creationdate': ''}, page_content=\"Student : [Inaudible].  \\nInstructor (Andrew Ng) : Endo —  \\nStudent : [Inaudible].  \\nInstructor (Andrew Ng) : Oh, I see, industry. Okay. Cool. Great, great. So as you can \\ntell from a cross-section of this class, I think we're a very diverse audience in this room, \\nand that's one of the things that makes this class fun to teach and fun to be in, I think.\"), Document(id='645acd06-fde9-47e7-a161-73bdfbca1cb8', metadata={'page': 0, 'source': '/tmp/tmpfhiaz1n9.pdf', 'creator': 'PyPDF', 'moddate': '2025-05-29T16:35:44+00:00', 'producer': 'iLovePDF', 'page_label': '1', 'total_pages': 4, 'creationdate': ''}, page_content=\"MachineLearning-Lecture01  \\nInstructor (Andrew Ng): Okay. Good morning. Welcome to CS229, the machine \\nlearning class. So what I wanna do today is just spend a little time going over the logistics \\nof the class, and then we'll start to talk a bit about machine learning.  \\nBy way of introduction, my name's Andrew Ng and I'll be instructor for this class. And so \\nI personally work in machine learning, and I've worked on it for about 15 years now, and \\nI actually think that machine learning is the most exciting field of all the computer \\nsciences. So I'm actually always excited about teaching this class. Sometimes I actually \\nthink that machine learning is not only the most exciting thing in computer science, but \\nthe most exciting thing in all of human endeavor, so maybe a little bias there.  \\nI also want to introduce the TAs, who are all graduate students doing research in or \\nrelated to the machine learning and all aspects of machine learning. Paul Baumstarck\"), Document(id='1688c264-5070-43c1-a98b-062e2f020015', metadata={'page': 0, 'source': '/tmp/tmp7aat61w5.pdf', 'creator': 'PyPDF', 'moddate': '2025-05-29T16:35:44+00:00', 'producer': 'iLovePDF', 'page_label': '1', 'total_pages': 4, 'creationdate': ''}, page_content=\"MachineLearning-Lecture01  \\nInstructor (Andrew Ng): Okay. Good morning. Welcome to CS229, the machine \\nlearning class. So what I wanna do today is just spend a little time going over the logistics \\nof the class, and then we'll start to talk a bit about machine learning.  \\nBy way of introduction, my name's Andrew Ng and I'll be instructor for this class. And so \\nI personally work in machine learning, and I've worked on it for about 15 years now, and \\nI actually think that machine learning is the most exciting field of all the computer \\nsciences. So I'm actually always excited about teaching this class. Sometimes I actually \\nthink that machine learning is not only the most exciting thing in computer science, but \\nthe most exciting thing in all of human endeavor, so maybe a little bias there.  \\nI also want to introduce the TAs, who are all graduate students doing research in or \\nrelated to the machine learning and all aspects of machine learning. Paul Baumstarck\")]\n",
            "\n",
            "BOT🤖: \n",
            "The class is about Machine Learning. The instructor, Andrew Ng, emphasizes that he personally works in machine learning and has a significant amount of experience with it. He also mentions that he thinks it's the most exciting field in computer science and human endeavor.\n",
            "\n",
            "----------------------------------------------------------------------------------------------------\n",
            "\n",
            "Por favor escribe tu pregunta (o 'salir' para terminar): Who is Sebastian Thrun?\n",
            "Who is Sebastian Thrun?\n",
            "[Document(id='ba7ba36e-0191-4f69-a783-455d790e5132', metadata={'page': 1, 'source': '/tmp/tmp78z80lse.pdf', 'creator': 'PyPDF', 'moddate': '2025-05-29T16:36:38+00:00', 'producer': 'iLovePDF', 'page_label': '2', 'total_pages': 4, 'creationdate': ''}, page_content='\"right\" answer.  \\nSo let me show you a video now. Load the big screen, please. So I\\'ll show you a video \\nnow that was from Dean Pomerleau at some work he did at Carnegie Mellon on applied \\nsupervised learning to get a car to drive itself. This is work on a vehicle known as Alvin. \\nIt was done sort of about 15 years ago, and I think it was a very elegant example of the \\nsorts of things you can get supervised or any algorithms to do.  \\nOn the video, you hear Dean Pomerleau\\'s voice mention and algorithm called Neural \\nNetwork. I\\'ll say a little bit about that later, but the essential learning algorithm for this is \\nsomething called gradient descent, which I will talk about later in today\\'s lecture. Let\\'s \\nwatch the video. [Video plays]  \\nInstructor (Andrew Ng):So two comments, right. One is this is supervised learning \\nbecause it\\'s learning from a human driver, in which a human driver shows that we\\'re on'), Document(id='334b7705-bc5d-4166-99dd-694404215379', metadata={'page': 1, 'source': '/tmp/tmpqsldl9yw.pdf', 'creator': 'PyPDF', 'moddate': '2025-05-29T16:36:38+00:00', 'producer': 'iLovePDF', 'page_label': '2', 'total_pages': 4, 'creationdate': ''}, page_content='\"right\" answer.  \\nSo let me show you a video now. Load the big screen, please. So I\\'ll show you a video \\nnow that was from Dean Pomerleau at some work he did at Carnegie Mellon on applied \\nsupervised learning to get a car to drive itself. This is work on a vehicle known as Alvin. \\nIt was done sort of about 15 years ago, and I think it was a very elegant example of the \\nsorts of things you can get supervised or any algorithms to do.  \\nOn the video, you hear Dean Pomerleau\\'s voice mention and algorithm called Neural \\nNetwork. I\\'ll say a little bit about that later, but the essential learning algorithm for this is \\nsomething called gradient descent, which I will talk about later in today\\'s lecture. Let\\'s \\nwatch the video. [Video plays]  \\nInstructor (Andrew Ng):So two comments, right. One is this is supervised learning \\nbecause it\\'s learning from a human driver, in which a human driver shows that we\\'re on'), Document(id='1688c264-5070-43c1-a98b-062e2f020015', metadata={'page': 0, 'source': '/tmp/tmp7aat61w5.pdf', 'creator': 'PyPDF', 'moddate': '2025-05-29T16:35:44+00:00', 'producer': 'iLovePDF', 'page_label': '1', 'total_pages': 4, 'creationdate': ''}, page_content=\"MachineLearning-Lecture01  \\nInstructor (Andrew Ng): Okay. Good morning. Welcome to CS229, the machine \\nlearning class. So what I wanna do today is just spend a little time going over the logistics \\nof the class, and then we'll start to talk a bit about machine learning.  \\nBy way of introduction, my name's Andrew Ng and I'll be instructor for this class. And so \\nI personally work in machine learning, and I've worked on it for about 15 years now, and \\nI actually think that machine learning is the most exciting field of all the computer \\nsciences. So I'm actually always excited about teaching this class. Sometimes I actually \\nthink that machine learning is not only the most exciting thing in computer science, but \\nthe most exciting thing in all of human endeavor, so maybe a little bias there.  \\nI also want to introduce the TAs, who are all graduate students doing research in or \\nrelated to the machine learning and all aspects of machine learning. Paul Baumstarck\"), Document(id='645acd06-fde9-47e7-a161-73bdfbca1cb8', metadata={'page': 0, 'source': '/tmp/tmpfhiaz1n9.pdf', 'creator': 'PyPDF', 'moddate': '2025-05-29T16:35:44+00:00', 'producer': 'iLovePDF', 'page_label': '1', 'total_pages': 4, 'creationdate': ''}, page_content=\"MachineLearning-Lecture01  \\nInstructor (Andrew Ng): Okay. Good morning. Welcome to CS229, the machine \\nlearning class. So what I wanna do today is just spend a little time going over the logistics \\nof the class, and then we'll start to talk a bit about machine learning.  \\nBy way of introduction, my name's Andrew Ng and I'll be instructor for this class. And so \\nI personally work in machine learning, and I've worked on it for about 15 years now, and \\nI actually think that machine learning is the most exciting field of all the computer \\nsciences. So I'm actually always excited about teaching this class. Sometimes I actually \\nthink that machine learning is not only the most exciting thing in computer science, but \\nthe most exciting thing in all of human endeavor, so maybe a little bias there.  \\nI also want to introduce the TAs, who are all graduate students doing research in or \\nrelated to the machine learning and all aspects of machine learning. Paul Baumstarck\")]\n",
            "\n",
            "BOT🤖: \n",
            "Sebastian Thrun is not mentioned in the provided context. The instructor, Andrew Ng, introduces himself as the lecturer for CS229's machine learning class, but Sebastian Thrun is not mentioned.\n",
            "\n",
            "----------------------------------------------------------------------------------------------------\n",
            "\n",
            "Por favor escribe tu pregunta (o 'salir' para terminar): Who is Catie Chang?\n",
            "Who is Catie Chang?\n",
            "[Document(id='1688c264-5070-43c1-a98b-062e2f020015', metadata={'page': 0, 'source': '/tmp/tmp7aat61w5.pdf', 'creator': 'PyPDF', 'moddate': '2025-05-29T16:35:44+00:00', 'producer': 'iLovePDF', 'page_label': '1', 'total_pages': 4, 'creationdate': ''}, page_content=\"MachineLearning-Lecture01  \\nInstructor (Andrew Ng): Okay. Good morning. Welcome to CS229, the machine \\nlearning class. So what I wanna do today is just spend a little time going over the logistics \\nof the class, and then we'll start to talk a bit about machine learning.  \\nBy way of introduction, my name's Andrew Ng and I'll be instructor for this class. And so \\nI personally work in machine learning, and I've worked on it for about 15 years now, and \\nI actually think that machine learning is the most exciting field of all the computer \\nsciences. So I'm actually always excited about teaching this class. Sometimes I actually \\nthink that machine learning is not only the most exciting thing in computer science, but \\nthe most exciting thing in all of human endeavor, so maybe a little bias there.  \\nI also want to introduce the TAs, who are all graduate students doing research in or \\nrelated to the machine learning and all aspects of machine learning. Paul Baumstarck\"), Document(id='645acd06-fde9-47e7-a161-73bdfbca1cb8', metadata={'page': 0, 'source': '/tmp/tmpfhiaz1n9.pdf', 'creator': 'PyPDF', 'moddate': '2025-05-29T16:35:44+00:00', 'producer': 'iLovePDF', 'page_label': '1', 'total_pages': 4, 'creationdate': ''}, page_content=\"MachineLearning-Lecture01  \\nInstructor (Andrew Ng): Okay. Good morning. Welcome to CS229, the machine \\nlearning class. So what I wanna do today is just spend a little time going over the logistics \\nof the class, and then we'll start to talk a bit about machine learning.  \\nBy way of introduction, my name's Andrew Ng and I'll be instructor for this class. And so \\nI personally work in machine learning, and I've worked on it for about 15 years now, and \\nI actually think that machine learning is the most exciting field of all the computer \\nsciences. So I'm actually always excited about teaching this class. Sometimes I actually \\nthink that machine learning is not only the most exciting thing in computer science, but \\nthe most exciting thing in all of human endeavor, so maybe a little bias there.  \\nI also want to introduce the TAs, who are all graduate students doing research in or \\nrelated to the machine learning and all aspects of machine learning. Paul Baumstarck\"), Document(id='6262fe65-92fa-46cc-901c-6f5bb5acd7a4', metadata={'page': 0, 'source': '/tmp/tmpqsldl9yw.pdf', 'creator': 'PyPDF', 'moddate': '2025-05-29T16:36:38+00:00', 'producer': 'iLovePDF', 'page_label': '1', 'total_pages': 4, 'creationdate': ''}, page_content=\"MachineLearning-Lecture02  \\nInstructor (Andrew Ng):All right, good morning, welcome back. So before we jump \\ninto today's material, I just have one administrative announcement, which is graders. So I \\nguess sometime next week, we'll hand out the first homework assignment for this class.  \\nIs this loud enough, by the way? Can people in the back hear me? No. Can you please \\nturn up the mic a bit louder? Is this better? Is this okay? This is okay? Great.  \\nSo sometime next week, we'll hand out the first problem sets and it'll be two weeks after \\nthat, and the way we grade homework problems in this class is by some combination of \\nTAs and graders, where graders are usually members – students currently in the class.  \\nSo in maybe about a week or so, I'll email the class to solicit applications for those of you \\nthat might be interested in becoming graders for this class, and there's usually sort of a\"), Document(id='75fbc9ba-cce3-42fc-9eaa-dd1896cdc84d', metadata={'page': 0, 'source': '/tmp/tmp78z80lse.pdf', 'creator': 'PyPDF', 'moddate': '2025-05-29T16:36:38+00:00', 'producer': 'iLovePDF', 'page_label': '1', 'total_pages': 4, 'creationdate': ''}, page_content=\"MachineLearning-Lecture02  \\nInstructor (Andrew Ng):All right, good morning, welcome back. So before we jump \\ninto today's material, I just have one administrative announcement, which is graders. So I \\nguess sometime next week, we'll hand out the first homework assignment for this class.  \\nIs this loud enough, by the way? Can people in the back hear me? No. Can you please \\nturn up the mic a bit louder? Is this better? Is this okay? This is okay? Great.  \\nSo sometime next week, we'll hand out the first problem sets and it'll be two weeks after \\nthat, and the way we grade homework problems in this class is by some combination of \\nTAs and graders, where graders are usually members – students currently in the class.  \\nSo in maybe about a week or so, I'll email the class to solicit applications for those of you \\nthat might be interested in becoming graders for this class, and there's usually sort of a\")]\n",
            "\n",
            "BOT🤖: \n",
            "I don't know who Catie Chang is based on the provided context. The conversation focuses on the instructor, Andrew Ng, introducing himself and the course material, but does not mention anyone named Catie Chang.\n",
            "\n",
            "----------------------------------------------------------------------------------------------------\n",
            "\n",
            "Por favor escribe tu pregunta (o 'salir' para terminar): Turns out that most of you probably use learning algorithms — I don't know — I think half a dozen times a day or maybe a dozen times a day or more, and often without knowing it. What is the example he gaves?\n",
            "Turns out that most of you probably use learning algorithms — I don't know — I think half a dozen times a day or maybe a dozen times a day or more, and often without knowing it. What is the example he gaves?\n",
            "[Document(id='db8e0422-7337-46e8-9144-d8a167c9e94f', metadata={'page': 3, 'source': '/tmp/tmpfhiaz1n9.pdf', 'creator': 'PyPDF', 'moddate': '2025-05-29T16:35:44+00:00', 'producer': 'iLovePDF', 'page_label': '4', 'total_pages': 4, 'creationdate': ''}, page_content=\"If you use a website like Amazon or Netflix that will often recommend books for you to \\nbuy or movies for you to rent or whatever, these are other examples of learning \\nalgorithms that have learned what sorts of things you like to buy or what sorts of movies \\nyou like to watch and can therefore give customized recommendations to you.  \\nJust about a week ago, I had my car serviced, and even there, my car mechanic was trying \\nto explain to me some learning algorithm in the innards of my car that's sort of doing its \\nbest to optimize my driving performance for fuel efficiency or something.  \\nSo, see, most of us use learning algorithms half a dozen, a dozen, maybe dozens of times \\nwithout even knowing it.  \\nAnd of course, learning algorithms are also doing things like giving us a growing \\nunderstanding of the human genome. So if someday we ever find a cure for cancer, I bet \\nlearning algorithms will have had a large role in that. That's sort of the thing that Tom \\nworks on, yes?\"), Document(id='f91c89b2-d974-4282-9459-f0874117f3d0', metadata={'page': 3, 'source': '/tmp/tmp7aat61w5.pdf', 'creator': 'PyPDF', 'moddate': '2025-05-29T16:35:44+00:00', 'producer': 'iLovePDF', 'page_label': '4', 'total_pages': 4, 'creationdate': ''}, page_content=\"If you use a website like Amazon or Netflix that will often recommend books for you to \\nbuy or movies for you to rent or whatever, these are other examples of learning \\nalgorithms that have learned what sorts of things you like to buy or what sorts of movies \\nyou like to watch and can therefore give customized recommendations to you.  \\nJust about a week ago, I had my car serviced, and even there, my car mechanic was trying \\nto explain to me some learning algorithm in the innards of my car that's sort of doing its \\nbest to optimize my driving performance for fuel efficiency or something.  \\nSo, see, most of us use learning algorithms half a dozen, a dozen, maybe dozens of times \\nwithout even knowing it.  \\nAnd of course, learning algorithms are also doing things like giving us a growing \\nunderstanding of the human genome. So if someday we ever find a cure for cancer, I bet \\nlearning algorithms will have had a large role in that. That's sort of the thing that Tom \\nworks on, yes?\"), Document(id='a673cb65-6e03-40cc-995f-c155a5c8c35d', metadata={'page': 2, 'source': '/tmp/tmpambjupup.pdf', 'creator': 'PyPDF', 'moddate': '2025-05-29T16:35:44+00:00', 'producer': 'iLovePDF', 'page_label': '3', 'total_pages': 4, 'creationdate': ''}, page_content=\"that you already have enough data; it would be a waste of time to try to collect more. \\nOkay?  \\nSo I think learning algorithms are a very powerful tool that as I walk around sort of \\nindustry in Silicon Valley or as I work with various businesses in CS and outside CS, I \\nfind that there's often a huge difference between how well someone who really \\nunderstands this stuff can apply a learning algorithm versus someone who sort of gets it \\nbut sort of doesn't.  \\nThe analogy I like to think of is imagine you were going to a carpentry school instead of \\na machine learning class, right? If you go to a carpentry school, they can give you the \\ntools of carpentry. They'll give you a hammer, a bunch of nails, a screwdriver or \\nwhatever. But a master carpenter will be able to use those tools far better than most of us \\nin this room. I know a carpenter can do things with a hammer and nail that I couldn't\"), Document(id='056d2413-cbb3-4620-915c-227a59d3bbd0', metadata={'page': 2, 'source': '/tmp/tmp6cksxhkm.pdf', 'creator': 'PyPDF', 'moddate': '2025-05-29T16:35:44+00:00', 'producer': 'iLovePDF', 'page_label': '3', 'total_pages': 4, 'creationdate': ''}, page_content=\"that you already have enough data; it would be a waste of time to try to collect more. \\nOkay?  \\nSo I think learning algorithms are a very powerful tool that as I walk around sort of \\nindustry in Silicon Valley or as I work with various businesses in CS and outside CS, I \\nfind that there's often a huge difference between how well someone who really \\nunderstands this stuff can apply a learning algorithm versus someone who sort of gets it \\nbut sort of doesn't.  \\nThe analogy I like to think of is imagine you were going to a carpentry school instead of \\na machine learning class, right? If you go to a carpentry school, they can give you the \\ntools of carpentry. They'll give you a hammer, a bunch of nails, a screwdriver or \\nwhatever. But a master carpenter will be able to use those tools far better than most of us \\nin this room. I know a carpenter can do things with a hammer and nail that I couldn't\")]\n",
            "\n",
            "BOT🤖: \n",
            "The examples given for learning algorithms include a website like Amazon or Netflix, which provides personalized recommendations based on user preferences, and the innards of a car, where a mechanic uses a learning algorithm to optimize fuel efficiency. Additionally, learning algorithms are also being used in understanding the human genome, potentially leading to breakthroughs in medicine like cancer research. These examples illustrate how learning algorithms can be applied in various fields without requiring extensive knowledge of the underlying technology.\n",
            "\n",
            "----------------------------------------------------------------------------------------------------\n",
            "\n",
            "Por favor escribe tu pregunta (o 'salir' para terminar): In the lecture 02 a video is shown. What is the video about?\n",
            "In the lecture 02 a video is shown. What is the video about?\n",
            "[Document(id='ba7ba36e-0191-4f69-a783-455d790e5132', metadata={'page': 1, 'source': '/tmp/tmp78z80lse.pdf', 'creator': 'PyPDF', 'moddate': '2025-05-29T16:36:38+00:00', 'producer': 'iLovePDF', 'page_label': '2', 'total_pages': 4, 'creationdate': ''}, page_content='\"right\" answer.  \\nSo let me show you a video now. Load the big screen, please. So I\\'ll show you a video \\nnow that was from Dean Pomerleau at some work he did at Carnegie Mellon on applied \\nsupervised learning to get a car to drive itself. This is work on a vehicle known as Alvin. \\nIt was done sort of about 15 years ago, and I think it was a very elegant example of the \\nsorts of things you can get supervised or any algorithms to do.  \\nOn the video, you hear Dean Pomerleau\\'s voice mention and algorithm called Neural \\nNetwork. I\\'ll say a little bit about that later, but the essential learning algorithm for this is \\nsomething called gradient descent, which I will talk about later in today\\'s lecture. Let\\'s \\nwatch the video. [Video plays]  \\nInstructor (Andrew Ng):So two comments, right. One is this is supervised learning \\nbecause it\\'s learning from a human driver, in which a human driver shows that we\\'re on'), Document(id='334b7705-bc5d-4166-99dd-694404215379', metadata={'page': 1, 'source': '/tmp/tmpqsldl9yw.pdf', 'creator': 'PyPDF', 'moddate': '2025-05-29T16:36:38+00:00', 'producer': 'iLovePDF', 'page_label': '2', 'total_pages': 4, 'creationdate': ''}, page_content='\"right\" answer.  \\nSo let me show you a video now. Load the big screen, please. So I\\'ll show you a video \\nnow that was from Dean Pomerleau at some work he did at Carnegie Mellon on applied \\nsupervised learning to get a car to drive itself. This is work on a vehicle known as Alvin. \\nIt was done sort of about 15 years ago, and I think it was a very elegant example of the \\nsorts of things you can get supervised or any algorithms to do.  \\nOn the video, you hear Dean Pomerleau\\'s voice mention and algorithm called Neural \\nNetwork. I\\'ll say a little bit about that later, but the essential learning algorithm for this is \\nsomething called gradient descent, which I will talk about later in today\\'s lecture. Let\\'s \\nwatch the video. [Video plays]  \\nInstructor (Andrew Ng):So two comments, right. One is this is supervised learning \\nbecause it\\'s learning from a human driver, in which a human driver shows that we\\'re on'), Document(id='05cd878a-356b-43af-a3d7-a3c7003ad987', metadata={'page': 1, 'source': '/tmp/tmpqsldl9yw.pdf', 'creator': 'PyPDF', 'moddate': '2025-05-29T16:36:38+00:00', 'producer': 'iLovePDF', 'page_label': '2', 'total_pages': 4, 'creationdate': ''}, page_content='So I just want to start by showing you a fun video. Remember at the last lecture, the \\ninitial lecture, I talked about supervised learning. And supervised learning was this \\nmachine-learning problem where I said we\\'re going to tell the algorithm what the close \\nright answer is for a number of examples, and then we want the algorithm to replicate \\nmore of the same.  \\nSo the example I had at the first lecture was the problem of predicting housing prices, \\nwhere you may have a training set, and we tell the algorithm what the \"right\" housing \\nprice was for every house in the training set. And then you want the algorithm to learn the \\nrelationship between sizes of houses and the prices, and essentially produce more of the \\n\"right\" answer.  \\nSo let me show you a video now. Load the big screen, please. So I\\'ll show you a video \\nnow that was from Dean Pomerleau at some work he did at Carnegie Mellon on applied'), Document(id='23f5a693-f674-493a-b89c-b2ccde50e7ee', metadata={'page': 1, 'source': '/tmp/tmp78z80lse.pdf', 'creator': 'PyPDF', 'moddate': '2025-05-29T16:36:38+00:00', 'producer': 'iLovePDF', 'page_label': '2', 'total_pages': 4, 'creationdate': ''}, page_content='So I just want to start by showing you a fun video. Remember at the last lecture, the \\ninitial lecture, I talked about supervised learning. And supervised learning was this \\nmachine-learning problem where I said we\\'re going to tell the algorithm what the close \\nright answer is for a number of examples, and then we want the algorithm to replicate \\nmore of the same.  \\nSo the example I had at the first lecture was the problem of predicting housing prices, \\nwhere you may have a training set, and we tell the algorithm what the \"right\" housing \\nprice was for every house in the training set. And then you want the algorithm to learn the \\nrelationship between sizes of houses and the prices, and essentially produce more of the \\n\"right\" answer.  \\nSo let me show you a video now. Load the big screen, please. So I\\'ll show you a video \\nnow that was from Dean Pomerleau at some work he did at Carnegie Mellon on applied')]\n",
            "\n",
            "BOT🤖: \n",
            "The video is about Dean Pomerleau's work on applying supervised learning to get a car to drive itself, specifically with the vehicle Alvin. The video showcases the application of algorithms such as Neural Network and gradient descent in this context. It is an example of supervised learning where human drivers provide feedback for the algorithm to learn from.\n",
            "\n",
            "----------------------------------------------------------------------------------------------------\n",
            "\n",
            "Por favor escribe tu pregunta (o 'salir' para terminar): salir\n",
            "👋 ¡Gracias por usar el chat! Hasta luego.\n"
          ]
        }
      ],
      "source": [
        "while True:\n",
        "    user_question = input(\"Por favor escribe tu pregunta (o 'salir' para terminar): \")\n",
        "    if user_question.lower() in (\"salir\", \"exit\", \"quit\"):\n",
        "        print(\"👋 ¡Gracias por usar el chat! Hasta luego.\")\n",
        "        break\n",
        "    response = graph.invoke({\"question\": user_question})\n",
        "    answer = response[\"answer\"]\n",
        "    answer_corregida = corregir_codificacion(answer)\n",
        "    print(\"\\nBOT🤖: \")\n",
        "    print(answer_corregida)\n",
        "    print(\"\\n\" + \"-\"*100 + \"\\n\")"
      ]
    }
  ],
  "metadata": {
    "kernelspec": {
      "display_name": "Python 3 (ipykernel)",
      "language": "python",
      "name": "python3"
    },
    "language_info": {
      "codemirror_mode": {
        "name": "ipython",
        "version": 3
      },
      "file_extension": ".py",
      "mimetype": "text/x-python",
      "name": "python",
      "nbconvert_exporter": "python",
      "pygments_lexer": "ipython3",
      "version": "3.10.12"
    },
    "colab": {
      "provenance": []
    }
  },
  "nbformat": 4,
  "nbformat_minor": 5
}