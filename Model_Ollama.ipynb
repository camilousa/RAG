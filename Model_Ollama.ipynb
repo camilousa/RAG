{
  "cells": [
    {
      "cell_type": "code",
      "execution_count": 1,
      "metadata": {
        "colab": {
          "base_uri": "https://localhost:8080/"
        },
        "id": "mtkmto-66R9Y",
        "outputId": "2822ee20-2edf-4fbf-a892-69e781d3ebbf"
      },
      "outputs": [
        {
          "output_type": "stream",
          "name": "stdout",
          "text": [
            ">>> Installing ollama to /usr/local\n",
            ">>> Downloading Linux amd64 bundle\n",
            "######################################################################## 100.0%\n",
            ">>> Creating ollama user...\n",
            ">>> Adding ollama user to video group...\n",
            ">>> Adding current user to ollama group...\n",
            ">>> Creating ollama systemd service...\n",
            "\u001b[1m\u001b[31mWARNING:\u001b[m systemd is not running\n",
            "\u001b[1m\u001b[31mWARNING:\u001b[m Unable to detect NVIDIA/AMD GPU. Install lspci or lshw to automatically detect and install GPU dependencies.\n",
            ">>> The Ollama API is now available at 127.0.0.1:11434.\n",
            ">>> Install complete. Run \"ollama\" from the command line.\n",
            " * Serving Flask app '__main__'\n",
            " * Debug mode: off\n"
          ]
        },
        {
          "output_type": "stream",
          "name": "stderr",
          "text": [
            "INFO:werkzeug:\u001b[31m\u001b[1mWARNING: This is a development server. Do not use it in a production deployment. Use a production WSGI server instead.\u001b[0m\n",
            " * Running on all addresses (0.0.0.0)\n",
            " * Running on http://127.0.0.1:5000\n",
            " * Running on http://172.28.0.12:5000\n",
            "INFO:werkzeug:\u001b[33mPress CTRL+C to quit\u001b[0m\n"
          ]
        },
        {
          "output_type": "stream",
          "name": "stdout",
          "text": [
            "Tu endpoint público es: NgrokTunnel: \"https://5cf0-34-125-180-56.ngrok-free.app\" -> \"http://localhost:5000\"\n"
          ]
        }
      ],
      "source": [
        "!pip install flask pyngrok --quiet\n",
        "!curl -fsSL https://ollama.com/install.sh | sh\n",
        "\n",
        "import threading\n",
        "import subprocess\n",
        "import time\n",
        "from flask import Flask, request, jsonify, Response\n",
        "import requests\n",
        "from pyngrok import ngrok\n",
        "\n",
        "\n",
        "# 1. Lanzar Ollama\n",
        "def run_ollama():\n",
        "    subprocess.Popen([\"ollama\", \"serve\"])\n",
        "\n",
        "threading.Thread(target=run_ollama).start()\n",
        "\n",
        "# Esperamos a que Ollama inicie\n",
        "time.sleep(5)\n",
        "\n",
        "subprocess.run([\"ollama\", \"pull\", \"llama3.2\"])\n",
        "\n",
        "# 2. Proxy Flask\n",
        "app = Flask(__name__)\n",
        "\n",
        "OLLAMA_API = \"http://127.0.0.1:11434\"\n",
        "\n",
        "# Endpoint para generar texto\n",
        "@app.route(\"/generate\", methods=[\"POST\"])\n",
        "def generate():\n",
        "    try:\n",
        "        r = requests.post(f\"{OLLAMA_API}/api/generate\", json=request.json, stream=True)\n",
        "        return Response(r.iter_lines(), content_type=\"text/plain\")\n",
        "    except Exception as e:\n",
        "        return jsonify({\"error\": str(e)}), 500\n",
        "\n",
        "# Listar modelos (ollama list)\n",
        "@app.route(\"/models\", methods=[\"GET\"])\n",
        "def list_models():\n",
        "    try:\n",
        "        r = requests.get(f\"{OLLAMA_API}/api/tags\")\n",
        "        return jsonify(r.json())\n",
        "    except Exception as e:\n",
        "        return jsonify({\"error\": str(e)}), 500\n",
        "\n",
        "# Descargar modelo (ollama pull)\n",
        "@app.route(\"/pull\", methods=[\"POST\"])\n",
        "def pull_model():\n",
        "    try:\n",
        "        r = requests.post(f\"{OLLAMA_API}/api/pull\", json=request.json, stream=True)\n",
        "        return Response(r.iter_lines(), content_type=\"text/plain\")\n",
        "    except Exception as e:\n",
        "        return jsonify({\"error\": str(e)}), 500\n",
        "\n",
        "# Eliminar modelo (ollama delete)\n",
        "@app.route(\"/delete\", methods=[\"POST\"])\n",
        "def delete_model():\n",
        "    try:\n",
        "        r = requests.post(f\"{OLLAMA_API}/api/delete\", json=request.json)\n",
        "        return jsonify(r.json())\n",
        "    except Exception as e:\n",
        "        return jsonify({\"error\": str(e)}), 500\n",
        "\n",
        "# Crear modelo personalizado (ollama create)\n",
        "@app.route(\"/create\", methods=[\"POST\"])\n",
        "def create_model():\n",
        "    try:\n",
        "        r = requests.post(f\"{OLLAMA_API}/api/create\", json=request.json)\n",
        "        return jsonify(r.json())\n",
        "    except Exception as e:\n",
        "        return jsonify({\"error\": str(e)}), 500\n",
        "\n",
        "# Mostrar detalles del modelo (ollama show)\n",
        "@app.route(\"/show\", methods=[\"POST\"])\n",
        "def show_model():\n",
        "    try:\n",
        "        r = requests.post(f\"{OLLAMA_API}/api/show\", json=request.json)\n",
        "        return jsonify(r.json())\n",
        "    except Exception as e:\n",
        "        return jsonify({\"error\": str(e)}), 500\n",
        "\n",
        "def run_flask():\n",
        "    app.run(host=\"0.0.0.0\", port=5000)\n",
        "\n",
        "threading.Thread(target=run_flask).start()\n",
        "\n",
        "# 3. Ngrok\n",
        "ngrok.set_auth_token(\"2x0nTZ8cIsu86Gjyhs325SFCw3p_4HgiJcdarFsp6s3yzyHDe\")\n",
        "public_url = ngrok.connect(5000)\n",
        "print(\"Tu endpoint público es:\", public_url)\n"
      ]
    }
  ],
  "metadata": {
    "accelerator": "GPU",
    "colab": {
      "gpuType": "T4",
      "provenance": []
    },
    "kernelspec": {
      "display_name": "Python 3",
      "name": "python3"
    },
    "language_info": {
      "name": "python"
    }
  },
  "nbformat": 4,
  "nbformat_minor": 0
}